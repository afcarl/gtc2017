{
 "cells": [
  {
   "cell_type": "markdown",
   "metadata": {},
   "source": [
    "This notebook allow you to play with Theano and Lasagne.\n",
    "\n",
    "It use a pre-trained VGG16 network"
   ]
  },
  {
   "cell_type": "code",
   "execution_count": null,
   "metadata": {
    "collapsed": false
   },
   "outputs": [],
   "source": [
    "import collections\n",
    "import cPickle\n",
    "import glob\n",
    "import sys\n",
    "sys.path.append(\"/home/nouiz/repos/Lasagne\")\n",
    "\n",
    "from lasagne.utils import floatX\n",
    "#import matplotlib.pyplot as plt\n",
    "import numpy as np\n",
    "import lasagne, theano\n",
    "\n",
    "# vgg16 include the model definition and function to read and preprocess images for VGG16\n",
    "from vgg16 import build_model, prep_image\n",
    "\n",
    "# Populating the interactive namespace from numpy and matplotlib\n",
    "%pylab inline"
   ]
  },
  {
   "cell_type": "code",
   "execution_count": null,
   "metadata": {
    "collapsed": false
   },
   "outputs": [],
   "source": [
    "def minkowski_mat(x, m, p=2.0):\n",
    "    \"\"\" Compute the minkowski distance between a feature vector `x`\n",
    "    and a matrix of feature vector `x`.\n",
    "    \"\"\"\n",
    "    diff = (np.abs(x - m)**p).sum(axis=1)**(1.0/p)\n",
    "    return diff\n",
    "\n",
    "#TODO: keep?\n",
    "def knn_idx(x, features, p=2):\n",
    "    \"\"\"Return the row index of the most similar features compared to `x`.\"\"\"\n",
    "    dist = minkowski_mat(x, features, p=p)\n",
    "    return np.argmin(dist)"
   ]
  },
  {
   "cell_type": "code",
   "execution_count": null,
   "metadata": {
    "collapsed": false
   },
   "outputs": [],
   "source": [
    "# vgg16.pkl contain the trained weights and the mean values needed for the preprocessing.\n",
    "with open('vgg16.pkl', 'r') as f:\n",
    "    d = cPickle.load(f)\n",
    "\n",
    "MEAN_IMAGE = d['mean value']\n",
    "# Get the Lasagne model\n",
    "net = build_model()\n",
    "# Set the pre-trained weights\n",
    "lasagne.layers.set_all_param_values(net['prob'], d['param values'])"
   ]
  },
  {
   "cell_type": "code",
   "execution_count": null,
   "metadata": {
    "collapsed": true
   },
   "outputs": [],
   "source": [
    "# Get the graph for that compute the last features layers of the model\n",
    "output = lasagne.layers.get_output(net['fc8'], deterministic=True)\n",
    "# Compile the Theano function to be able to execute it.\n",
    "compute_last = theano.function([net['input'].input_var], output)\n",
    "\n",
    "def compute_feats(inputs):\n",
    "    \"\"\"Compute the features of many images.\"\"\"\n",
    "    preps = []\n",
    "    for inp in inputs:\n",
    "        # prep_image return a 4d tensor with only 1 images\n",
    "        # remove the first dimensions to batch them ourself\n",
    "        preps.append(prep_image(inp, MEAN_IMAGE)[1][0])\n",
    "    # batch compute the features.\n",
    "    return compute_last(preps)"
   ]
  },
  {
   "cell_type": "code",
   "execution_count": null,
   "metadata": {
    "collapsed": false
   },
   "outputs": [],
   "source": [
    "# Create a new datasets with 2 new classes\n",
    "class1_dir = './dog/'\n",
    "class1_name = 'chien'\n",
    "class2_dir = './donut/'\n",
    "class2_name = 'beigne'\n",
    "test_dir = './test/'\n",
    "\n",
    "class1_files = glob.glob(class1_dir + '*')  # list files under the \"dog/\" directory\n",
    "class1_feats = compute_feats(class1_files)\n",
    "class1_targets = [class1_name] * len(class1_files)  # build the target classes\n",
    "\n",
    "# De me me pour la classe 2\n",
    "class2_files = glob.glob(class2_dir + '*')\n",
    "class2_feats = compute_feats(class2_files)\n",
    "class2_targets = [class2_name] * len(class2_files)\n",
    "\n",
    "# On cree le jeu de donnees en incorporant toutes les classes\n",
    "train_files = class1_files + class2_files\n",
    "train_feats = np.concatenate([class1_feats, class2_feats])\n",
    "train_targets = class1_targets + class2_targets\n",
    "\n",
    "# On calcule aussi les representations des images de test\n",
    "test_files = glob.glob(test_dir + '*')\n",
    "test_feats = compute_feats(test_files)\n",
    "\n",
    "# Afficher le nom du fichier correspondant a l'exemple 0\n",
    "print(test_files[0])\n",
    "\n",
    "# Appeler knn_idx pour avoir le plus proche voisin de cet exemple\n",
    "idx0 = knn_idx(test_feats[0], train_feats)\n",
    "\n",
    "# Afficher le nom de ce fichier d'entrainement\n",
    "print(train_files[idx0])\n",
    "\n",
    "# Afficher la classe predite\n",
    "print(train_targets[idx0])\n"
   ]
  },
  {
   "cell_type": "code",
   "execution_count": null,
   "metadata": {
    "collapsed": false
   },
   "outputs": [],
   "source": [
    "def plot_knn(test_file, test_feat, train_files, train_feats, train_classes):\n",
    "    idx = knn_idx(test_feat, train_feats)\n",
    "    knn_file = train_files[idx]\n",
    "    knn_class = train_classes[idx]\n",
    "\n",
    "    figure(figsize=(12, 2))\n",
    "    subplot(1, 2, 1)\n",
    "    imshow(prep_image(test_file, MEAN_IMAGE)[0])\n",
    "\n",
    "    axis('off')\n",
    "    title('prediction : ' + knn_class)\n",
    "\n",
    "    subplot(1, 2, 2)\n",
    "    savefig('foo2.png', bbox_inches='tight')\n",
    "    imshow(prep_image(knn_file, MEAN_IMAGE)[0])\n",
    "    axis('off')\n",
    "    title(knn_class)\n",
    "    #savefig('foo.png', bbox_inches='tight')\n",
    "\n",
    "plot_knn(test_files[0], test_feats[0], train_files, train_feats, train_targets)\n",
    "\n",
    "\n",
    "def most_frequent(label_list):\n",
    "\n",
    "    return collections.Counter(label_list).most_common()[0][0]\n",
    "\n",
    "def kppv_idx(x, features, p=2, k=1):\n",
    "    dist = minkowski_mat(x, features, p=p)\n",
    "    return np.argsort(dist)[:k]\n",
    "\n",
    "\n",
    "def plot_kppv(test_file, test_feat, train_files, train_feats, train_classes, k=1):\n",
    "    kppv_i = kppv_idx(test_feat, train_feats, k=k)\n",
    "    kppv_files = [train_files[i] for i in kppv_i]\n",
    "    kppv_classes = [train_classes[i] for i in kppv_i]\n",
    "    pred_class = most_frequent(kppv_classes)\n",
    "\n",
    "    figure(figsize=(12, 4))\n",
    "    subplot(1, k+2, 1)\n",
    "    imshow(prep_image(test_file, MEAN_IMAGE)[0][:, :, :3])\n",
    "    axis('off')\n",
    "    title('prediction : ' + pred_class)\n",
    "    for i in xrange(k):\n",
    "        kppv_preproc = prep_image(kppv_files[i], MEAN_IMAGE)[0][:, :, :3]\n",
    "        subplot(1, k+2, i+3)\n",
    "        imshow(kppv_preproc)\n",
    "        axis('off')\n",
    "        title(kppv_classes[i])\n",
    "    #plt.savefig(out, bbox_inches='tight', transparent=True)\n",
    "    #plt.show()\n"
   ]
  },
  {
   "cell_type": "code",
   "execution_count": null,
   "metadata": {
    "collapsed": false
   },
   "outputs": [],
   "source": [
    "for i in range(len(test_files)):\n",
    "    plot_kppv(test_files[i], test_feats[i], train_files, train_feats, train_targets, k=7)"
   ]
  },
  {
   "cell_type": "code",
   "execution_count": null,
   "metadata": {
    "collapsed": true
   },
   "outputs": [],
   "source": []
  },
  {
   "cell_type": "code",
   "execution_count": null,
   "metadata": {
    "collapsed": true
   },
   "outputs": [],
   "source": []
  }
 ],
 "metadata": {
  "kernelspec": {
   "display_name": "Python 2",
   "language": "python",
   "name": "python2"
  },
  "language_info": {
   "codemirror_mode": {
    "name": "ipython",
    "version": 2
   },
   "file_extension": ".py",
   "mimetype": "text/x-python",
   "name": "python",
   "nbconvert_exporter": "python",
   "pygments_lexer": "ipython2",
   "version": "2.7.13"
  }
 },
 "nbformat": 4,
 "nbformat_minor": 0
}
