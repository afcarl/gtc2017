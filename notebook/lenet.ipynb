{
 "metadata": {
  "name": "",
  "signature": "sha256:9c8d3314206764c0f521d839cb0c0c8a30b68f5bbcde6bed184b3e9ae10bbb12"
 },
 "nbformat": 3,
 "nbformat_minor": 0,
 "worksheets": [
  {
   "cells": [
    {
     "cell_type": "markdown",
     "metadata": {},
     "source": [
      "This notebook demonstrates and allow you to play with the LeNet model.\n",
      "\n",
      "The first cell will enable the GPU. Execute it(CTRL-enter).\n",
      "\n",
      "The second cell loads the example in a new cell. Execute it.\n",
      "\n",
      "Then, you can look at that example and run it to get it defined.\n",
      "\n",
      "Next, there is a cell that runs the model. It allows you to play with some of the hyper-parameters.\n",
      "\n",
      "You can change the example code itself. You can run the load again the original code in a new cell by running again the `load` cell again.\n",
      "\n",
      "This example takes about 9m to execute in the VM (GRID k520 with CuDNN v2 rc3).\n",
      "\n",
      "To see the other files used by lenet.py run that command in a new cell: '%load logistic_sgd.py' or '%load mlp.py'.\n",
      "\n",
      "Two possible changes you could try:\n",
      "- change the non linearity of the convolution to rectifier unit.\n",
      "- add an extra mlp layer.\n",
      "- limit the number of epoch of training to allow iterating more rapidly on code change."
     ]
    },
    {
     "cell_type": "code",
     "collapsed": false,
     "input": [
      "# To enable the GPU, run the following code\n",
      "import theano.sandbox.cuda\n",
      "theano.config.floatX='float32'\n",
      "theano.sandbox.cuda.use('gpu')"
     ],
     "language": "python",
     "metadata": {},
     "outputs": []
    },
    {
     "cell_type": "code",
     "collapsed": false,
     "input": [
      "%load lenet.py"
     ],
     "language": "python",
     "metadata": {},
     "outputs": []
    },
    {
     "cell_type": "code",
     "collapsed": false,
     "input": [
      "import gzip\n",
      "import cPickle\n",
      "\n",
      "evaluate_lenet5(learning_rate=0.1, n_epochs=200,\n",
      "                dataset='mnist.pkl.gz',\n",
      "                nkerns=[20, 50], batch_size=500)"
     ],
     "language": "python",
     "metadata": {},
     "outputs": []
    }
   ],
   "metadata": {}
  }
 ]
}