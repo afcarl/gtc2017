{
 "cells": [
  {
   "cell_type": "markdown",
   "metadata": {},
   "source": [
    "This directory contain ipython notebooks for the GTC 2015 Theano hands-on lab:\n",
    "\n",
    "- Introduction (this notebook): introductory notebook\n",
    "- Exercices: notebook that contain exercices specific to Theano without machine learning\n",
    "- lenet: notebook that demonstrates the LeNet (basic convolutional example) model\n",
    "- Reuse VGG16 features: notebook how to reuse VGG16 features to do classification of 2 new classes\n",
    "\n",
    "The slides are available at https://raw.githubusercontent.com/nouiz/gtc2017/master/L7131_FredericBastien.pdf\n",
    "\n",
    "The GitHub repository: https://github.com/nouiz/gtc2017\n",
    "\n",
    "See the top of the notebook for explanation regarding how they should be used.\n",
    "\n",
    "You can run a cell that contains code with CTRL-enter when that cell is selected"
   ]
  }
 ],
 "metadata": {
  "kernelspec": {
   "display_name": "Python 2",
   "language": "python",
   "name": "python2"
  },
  "language_info": {
   "codemirror_mode": {
    "name": "ipython",
    "version": 2
   },
   "file_extension": ".py",
   "mimetype": "text/x-python",
   "name": "python",
   "nbconvert_exporter": "python",
   "pygments_lexer": "ipython2",
   "version": "2.7.13"
  }
 },
 "nbformat": 4,
 "nbformat_minor": 0
}
